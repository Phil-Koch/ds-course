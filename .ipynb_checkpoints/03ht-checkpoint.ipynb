{
 "cells": [
  {
   "cell_type": "markdown",
   "id": "ab0854bf-31a9-4e82-acec-85f66d00d9d5",
   "metadata": {},
   "source": [
    "# ДЗ №3"
   ]
  },
  {
   "cell_type": "markdown",
   "id": "461443b4-2f04-4228-935d-2a4dfb930791",
   "metadata": {},
   "source": [
    "Анализ статистики World Snooker Tour сезона 2018/2019.\n",
    "\n",
    "Используются реальные данные, предварительно сохраненные в файл snooker.xlsx в виде четырех таблиц."
   ]
  },
  {
   "cell_type": "code",
   "execution_count": 77,
   "id": "20f67b28-209f-4139-b009-58dc4041e40e",
   "metadata": {},
   "outputs": [],
   "source": [
    "import numpy as np\n",
    "import pandas as pd\n",
    "import matplotlib.pyplot as plt\n",
    "import sqlite3"
   ]
  },
  {
   "cell_type": "code",
   "execution_count": 78,
   "id": "d76fb9bf-9520-4641-a4b7-f941cc00a333",
   "metadata": {},
   "outputs": [
    {
     "data": {
      "text/html": [
       "<div>\n",
       "<style scoped>\n",
       "    .dataframe tbody tr th:only-of-type {\n",
       "        vertical-align: middle;\n",
       "    }\n",
       "\n",
       "    .dataframe tbody tr th {\n",
       "        vertical-align: top;\n",
       "    }\n",
       "\n",
       "    .dataframe thead th {\n",
       "        text-align: right;\n",
       "    }\n",
       "</style>\n",
       "<table border=\"1\" class=\"dataframe\">\n",
       "  <thead>\n",
       "    <tr style=\"text-align: right;\">\n",
       "      <th></th>\n",
       "      <th>rank</th>\n",
       "      <th>player</th>\n",
       "      <th>age</th>\n",
       "      <th>nationality</th>\n",
       "      <th>earnings</th>\n",
       "    </tr>\n",
       "  </thead>\n",
       "  <tbody>\n",
       "    <tr>\n",
       "      <th>0</th>\n",
       "      <td>1</td>\n",
       "      <td>Ronnie O'Sullivan</td>\n",
       "      <td>44</td>\n",
       "      <td>England</td>\n",
       "      <td>1196500</td>\n",
       "    </tr>\n",
       "    <tr>\n",
       "      <th>1</th>\n",
       "      <td>2</td>\n",
       "      <td>Judd Trump</td>\n",
       "      <td>30</td>\n",
       "      <td>England</td>\n",
       "      <td>1166500</td>\n",
       "    </tr>\n",
       "    <tr>\n",
       "      <th>2</th>\n",
       "      <td>3</td>\n",
       "      <td>Mark J Williams</td>\n",
       "      <td>44</td>\n",
       "      <td>Wales</td>\n",
       "      <td>1028000</td>\n",
       "    </tr>\n",
       "    <tr>\n",
       "      <th>3</th>\n",
       "      <td>4</td>\n",
       "      <td>Neil Robertson</td>\n",
       "      <td>37</td>\n",
       "      <td>Australia</td>\n",
       "      <td>842500</td>\n",
       "    </tr>\n",
       "    <tr>\n",
       "      <th>4</th>\n",
       "      <td>5</td>\n",
       "      <td>John Higgins</td>\n",
       "      <td>44</td>\n",
       "      <td>Scotland</td>\n",
       "      <td>795500</td>\n",
       "    </tr>\n",
       "  </tbody>\n",
       "</table>\n",
       "</div>"
      ],
      "text/plain": [
       "   rank             player  age nationality  earnings\n",
       "0     1  Ronnie O'Sullivan   44     England   1196500\n",
       "1     2         Judd Trump   30     England   1166500\n",
       "2     3    Mark J Williams   44       Wales   1028000\n",
       "3     4     Neil Robertson   37   Australia    842500\n",
       "4     5       John Higgins   44    Scotland    795500"
      ]
     },
     "execution_count": 78,
     "metadata": {},
     "output_type": "execute_result"
    }
   ],
   "source": [
    "#Тop-25 игроков\n",
    "players_df = pd.read_excel('snooker.xlsx', sheet_name='players')\n",
    "players_df.head()"
   ]
  },
  {
   "cell_type": "code",
   "execution_count": 79,
   "id": "975231eb-af48-49dc-833c-c3606e5e1abf",
   "metadata": {},
   "outputs": [
    {
     "data": {
      "text/html": [
       "<div>\n",
       "<style scoped>\n",
       "    .dataframe tbody tr th:only-of-type {\n",
       "        vertical-align: middle;\n",
       "    }\n",
       "\n",
       "    .dataframe tbody tr th {\n",
       "        vertical-align: top;\n",
       "    }\n",
       "\n",
       "    .dataframe thead th {\n",
       "        text-align: right;\n",
       "    }\n",
       "</style>\n",
       "<table border=\"1\" class=\"dataframe\">\n",
       "  <thead>\n",
       "    <tr style=\"text-align: right;\">\n",
       "      <th></th>\n",
       "      <th>month_name</th>\n",
       "      <th>month_id</th>\n",
       "    </tr>\n",
       "  </thead>\n",
       "  <tbody>\n",
       "    <tr>\n",
       "      <th>0</th>\n",
       "      <td>July 2018</td>\n",
       "      <td>7</td>\n",
       "    </tr>\n",
       "    <tr>\n",
       "      <th>1</th>\n",
       "      <td>August 2018</td>\n",
       "      <td>8</td>\n",
       "    </tr>\n",
       "    <tr>\n",
       "      <th>2</th>\n",
       "      <td>September 2018</td>\n",
       "      <td>9</td>\n",
       "    </tr>\n",
       "    <tr>\n",
       "      <th>3</th>\n",
       "      <td>October 2018</td>\n",
       "      <td>10</td>\n",
       "    </tr>\n",
       "    <tr>\n",
       "      <th>4</th>\n",
       "      <td>November 2018</td>\n",
       "      <td>11</td>\n",
       "    </tr>\n",
       "  </tbody>\n",
       "</table>\n",
       "</div>"
      ],
      "text/plain": [
       "       month_name  month_id\n",
       "0       July 2018         7\n",
       "1     August 2018         8\n",
       "2  September 2018         9\n",
       "3    October 2018        10\n",
       "4   November 2018        11"
      ]
     },
     "execution_count": 79,
     "metadata": {},
     "output_type": "execute_result"
    }
   ],
   "source": [
    "#Периоды сезона с июля 2018 по апрель 2019, проиндексированные в соответствующем порядке\n",
    "months_df = pd.read_excel('snooker.xlsx', sheet_name='months')\n",
    "months_df.head()"
   ]
  },
  {
   "cell_type": "code",
   "execution_count": 80,
   "id": "4495a5f3-452c-42f0-bfbc-919eb7e1db94",
   "metadata": {},
   "outputs": [
    {
     "data": {
      "text/html": [
       "<div>\n",
       "<style scoped>\n",
       "    .dataframe tbody tr th:only-of-type {\n",
       "        vertical-align: middle;\n",
       "    }\n",
       "\n",
       "    .dataframe tbody tr th {\n",
       "        vertical-align: top;\n",
       "    }\n",
       "\n",
       "    .dataframe thead th {\n",
       "        text-align: right;\n",
       "    }\n",
       "</style>\n",
       "<table border=\"1\" class=\"dataframe\">\n",
       "  <thead>\n",
       "    <tr style=\"text-align: right;\">\n",
       "      <th></th>\n",
       "      <th>country</th>\n",
       "    </tr>\n",
       "  </thead>\n",
       "  <tbody>\n",
       "    <tr>\n",
       "      <th>0</th>\n",
       "      <td>Australia</td>\n",
       "    </tr>\n",
       "    <tr>\n",
       "      <th>1</th>\n",
       "      <td>Belgium</td>\n",
       "    </tr>\n",
       "    <tr>\n",
       "      <th>2</th>\n",
       "      <td>China</td>\n",
       "    </tr>\n",
       "    <tr>\n",
       "      <th>3</th>\n",
       "      <td>England</td>\n",
       "    </tr>\n",
       "    <tr>\n",
       "      <th>4</th>\n",
       "      <td>Germany</td>\n",
       "    </tr>\n",
       "  </tbody>\n",
       "</table>\n",
       "</div>"
      ],
      "text/plain": [
       "     country\n",
       "0  Australia\n",
       "1    Belgium\n",
       "2      China\n",
       "3    England\n",
       "4    Germany"
      ]
     },
     "execution_count": 80,
     "metadata": {},
     "output_type": "execute_result"
    }
   ],
   "source": [
    "#Cтраны, которые представляют игроки и/или в которых проводились турниры\n",
    "countries_df = pd.read_excel('snooker.xlsx', sheet_name='countries')\n",
    "countries_df.head()"
   ]
  },
  {
   "cell_type": "code",
   "execution_count": 81,
   "id": "683d687e-ab19-401f-92e8-b837e4485182",
   "metadata": {},
   "outputs": [
    {
     "data": {
      "text/html": [
       "<div>\n",
       "<style scoped>\n",
       "    .dataframe tbody tr th:only-of-type {\n",
       "        vertical-align: middle;\n",
       "    }\n",
       "\n",
       "    .dataframe tbody tr th {\n",
       "        vertical-align: top;\n",
       "    }\n",
       "\n",
       "    .dataframe thead th {\n",
       "        text-align: right;\n",
       "    }\n",
       "</style>\n",
       "<table border=\"1\" class=\"dataframe\">\n",
       "  <thead>\n",
       "    <tr style=\"text-align: right;\">\n",
       "      <th></th>\n",
       "      <th>tournament</th>\n",
       "      <th>month_id</th>\n",
       "      <th>place</th>\n",
       "      <th>winner</th>\n",
       "    </tr>\n",
       "  </thead>\n",
       "  <tbody>\n",
       "    <tr>\n",
       "      <th>0</th>\n",
       "      <td>Golden Q Cup</td>\n",
       "      <td>7</td>\n",
       "      <td>Romania</td>\n",
       "      <td>Luca Brecel</td>\n",
       "    </tr>\n",
       "    <tr>\n",
       "      <th>1</th>\n",
       "      <td>Riga Masters</td>\n",
       "      <td>7</td>\n",
       "      <td>Latvia</td>\n",
       "      <td>Neil Robertson</td>\n",
       "    </tr>\n",
       "    <tr>\n",
       "      <th>2</th>\n",
       "      <td>Haining Open</td>\n",
       "      <td>8</td>\n",
       "      <td>China</td>\n",
       "      <td>Mark Selby</td>\n",
       "    </tr>\n",
       "    <tr>\n",
       "      <th>3</th>\n",
       "      <td>World Open</td>\n",
       "      <td>8</td>\n",
       "      <td>China</td>\n",
       "      <td>Mark J Williams</td>\n",
       "    </tr>\n",
       "    <tr>\n",
       "      <th>4</th>\n",
       "      <td>Paul Hunter Classic</td>\n",
       "      <td>8</td>\n",
       "      <td>Germany</td>\n",
       "      <td>Kyren Wilson</td>\n",
       "    </tr>\n",
       "  </tbody>\n",
       "</table>\n",
       "</div>"
      ],
      "text/plain": [
       "            tournament  month_id    place           winner\n",
       "0         Golden Q Cup         7  Romania      Luca Brecel\n",
       "1         Riga Masters         7   Latvia   Neil Robertson\n",
       "2         Haining Open         8    China       Mark Selby\n",
       "3           World Open         8    China  Mark J Williams\n",
       "4  Paul Hunter Classic         8  Germany     Kyren Wilson"
      ]
     },
     "execution_count": 81,
     "metadata": {},
     "output_type": "execute_result"
    }
   ],
   "source": [
    "#Cписок 25 турниров сезона, их времени, места проведения и победителей\n",
    "tournaments_df = pd.read_excel('snooker.xlsx', sheet_name='tournaments')\n",
    "tournaments_df.head()"
   ]
  },
  {
   "cell_type": "code",
   "execution_count": 82,
   "id": "99e5430a-5358-4566-872c-dfc7596a26d7",
   "metadata": {},
   "outputs": [],
   "source": [
    "import sqlite3\n",
    "sql = sqlite3.connect('snooker.db')"
   ]
  },
  {
   "cell_type": "code",
   "execution_count": 83,
   "id": "d055feab-d94f-4b3f-bc4d-e12aebb9c6a4",
   "metadata": {},
   "outputs": [],
   "source": [
    "players_df.to_sql('players', sql, index_label='id', if_exists='replace')\n",
    "tournaments_df.to_sql('tournaments', sql, index_label='id', if_exists='replace')\n",
    "countries_df.to_sql('countries', sql, index_label='id', if_exists='replace')\n",
    "months_df.to_sql('months', sql, index_label='id', if_exists='replace')"
   ]
  },
  {
   "cell_type": "markdown",
   "id": "fed37ec9-923b-439e-b8ec-34f0f7dbeed8",
   "metadata": {},
   "source": [
    "### Easy"
   ]
  },
  {
   "cell_type": "code",
   "execution_count": 84,
   "id": "86c7d390-8c29-4b92-ad1c-dd6fd42506db",
   "metadata": {},
   "outputs": [
    {
     "data": {
      "text/html": [
       "<div>\n",
       "<style scoped>\n",
       "    .dataframe tbody tr th:only-of-type {\n",
       "        vertical-align: middle;\n",
       "    }\n",
       "\n",
       "    .dataframe tbody tr th {\n",
       "        vertical-align: top;\n",
       "    }\n",
       "\n",
       "    .dataframe thead th {\n",
       "        text-align: right;\n",
       "    }\n",
       "</style>\n",
       "<table border=\"1\" class=\"dataframe\">\n",
       "  <thead>\n",
       "    <tr style=\"text-align: right;\">\n",
       "      <th></th>\n",
       "      <th>id</th>\n",
       "      <th>rank</th>\n",
       "      <th>player</th>\n",
       "      <th>age</th>\n",
       "      <th>nationality</th>\n",
       "      <th>earnings</th>\n",
       "    </tr>\n",
       "  </thead>\n",
       "  <tbody>\n",
       "    <tr>\n",
       "      <th>0</th>\n",
       "      <td>9</td>\n",
       "      <td>10</td>\n",
       "      <td>Ding Junhui</td>\n",
       "      <td>32</td>\n",
       "      <td>China</td>\n",
       "      <td>403500</td>\n",
       "    </tr>\n",
       "    <tr>\n",
       "      <th>1</th>\n",
       "      <td>24</td>\n",
       "      <td>25</td>\n",
       "      <td>Xiao Guodong</td>\n",
       "      <td>30</td>\n",
       "      <td>China</td>\n",
       "      <td>203100</td>\n",
       "    </tr>\n",
       "  </tbody>\n",
       "</table>\n",
       "</div>"
      ],
      "text/plain": [
       "   id  rank        player  age nationality  earnings\n",
       "0   9    10   Ding Junhui   32       China    403500\n",
       "1  24    25  Xiao Guodong   30       China    203100"
      ]
     },
     "execution_count": 84,
     "metadata": {},
     "output_type": "execute_result"
    }
   ],
   "source": [
    "#Игроки из Китая не моложе 30 лет\n",
    "pd.read_sql('SELECT * FROM players WHERE age >= 30 and nationality = \"China\"', sql)"
   ]
  },
  {
   "cell_type": "code",
   "execution_count": 85,
   "id": "f5b685b7-60e6-412d-8489-61ef46832f8a",
   "metadata": {},
   "outputs": [
    {
     "data": {
      "text/plain": [
       "earnings    1593000\n",
       "dtype: int64"
      ]
     },
     "execution_count": 85,
     "metadata": {},
     "output_type": "execute_result"
    }
   ],
   "source": [
    "#Сумма призовых, заработанных всеми игроками из Шотландии\n",
    "pd.read_sql('SELECT earnings FROM players WHERE nationality = \"Scotland\"', sql).sum()"
   ]
  },
  {
   "cell_type": "code",
   "execution_count": 86,
   "id": "29e7907e-9d2a-40e8-9d97-7360e62f02ac",
   "metadata": {},
   "outputs": [
    {
     "data": {
      "text/html": [
       "<div>\n",
       "<style scoped>\n",
       "    .dataframe tbody tr th:only-of-type {\n",
       "        vertical-align: middle;\n",
       "    }\n",
       "\n",
       "    .dataframe tbody tr th {\n",
       "        vertical-align: top;\n",
       "    }\n",
       "\n",
       "    .dataframe thead th {\n",
       "        text-align: right;\n",
       "    }\n",
       "</style>\n",
       "<table border=\"1\" class=\"dataframe\">\n",
       "  <thead>\n",
       "    <tr style=\"text-align: right;\">\n",
       "      <th></th>\n",
       "      <th>player</th>\n",
       "      <th>age</th>\n",
       "    </tr>\n",
       "  </thead>\n",
       "  <tbody>\n",
       "    <tr>\n",
       "      <th>0</th>\n",
       "      <td>Yan Bingtao</td>\n",
       "      <td>19</td>\n",
       "    </tr>\n",
       "  </tbody>\n",
       "</table>\n",
       "</div>"
      ],
      "text/plain": [
       "        player  age\n",
       "0  Yan Bingtao   19"
      ]
     },
     "execution_count": 86,
     "metadata": {},
     "output_type": "execute_result"
    }
   ],
   "source": [
    "#Cамый молодой игрок\n",
    "pd.read_sql('SELECT player, age FROM players ORDER BY age', sql).head(1)"
   ]
  },
  {
   "cell_type": "code",
   "execution_count": 87,
   "id": "d9a61379-5f37-442d-a83e-5ace39f7b31d",
   "metadata": {
    "tags": []
   },
   "outputs": [
    {
     "data": {
      "text/html": [
       "<div>\n",
       "<style scoped>\n",
       "    .dataframe tbody tr th:only-of-type {\n",
       "        vertical-align: middle;\n",
       "    }\n",
       "\n",
       "    .dataframe tbody tr th {\n",
       "        vertical-align: top;\n",
       "    }\n",
       "\n",
       "    .dataframe thead th {\n",
       "        text-align: right;\n",
       "    }\n",
       "</style>\n",
       "<table border=\"1\" class=\"dataframe\">\n",
       "  <thead>\n",
       "    <tr style=\"text-align: right;\">\n",
       "      <th></th>\n",
       "      <th>id</th>\n",
       "      <th>rank</th>\n",
       "      <th>player</th>\n",
       "      <th>age</th>\n",
       "      <th>nationality</th>\n",
       "      <th>earnings</th>\n",
       "    </tr>\n",
       "  </thead>\n",
       "  <tbody>\n",
       "    <tr>\n",
       "      <th>0</th>\n",
       "      <td>18</td>\n",
       "      <td>19</td>\n",
       "      <td>Joe Perry</td>\n",
       "      <td>45</td>\n",
       "      <td>England</td>\n",
       "      <td>282000</td>\n",
       "    </tr>\n",
       "    <tr>\n",
       "      <th>1</th>\n",
       "      <td>0</td>\n",
       "      <td>1</td>\n",
       "      <td>Ronnie O'Sullivan</td>\n",
       "      <td>44</td>\n",
       "      <td>England</td>\n",
       "      <td>1196500</td>\n",
       "    </tr>\n",
       "    <tr>\n",
       "      <th>2</th>\n",
       "      <td>2</td>\n",
       "      <td>3</td>\n",
       "      <td>Mark J Williams</td>\n",
       "      <td>44</td>\n",
       "      <td>Wales</td>\n",
       "      <td>1028000</td>\n",
       "    </tr>\n",
       "  </tbody>\n",
       "</table>\n",
       "</div>"
      ],
      "text/plain": [
       "   id  rank             player  age nationality  earnings\n",
       "0  18    19          Joe Perry   45     England    282000\n",
       "1   0     1  Ronnie O'Sullivan   44     England   1196500\n",
       "2   2     3    Mark J Williams   44       Wales   1028000"
      ]
     },
     "execution_count": 87,
     "metadata": {},
     "output_type": "execute_result"
    }
   ],
   "source": [
    "#Трое cамых возрастных игроков (полная информация)\n",
    "pd.read_sql('SELECT * FROM players ORDER BY age DESC', sql).head(3)"
   ]
  },
  {
   "cell_type": "markdown",
   "id": "3bc0acfd-f2b2-426e-b0d8-6d03dee172f8",
   "metadata": {},
   "source": [
    "### Normal"
   ]
  },
  {
   "cell_type": "code",
   "execution_count": 88,
   "id": "90457560-3bd0-42a4-9f8d-b998c49878ca",
   "metadata": {},
   "outputs": [
    {
     "data": {
      "text/html": [
       "<div>\n",
       "<style scoped>\n",
       "    .dataframe tbody tr th:only-of-type {\n",
       "        vertical-align: middle;\n",
       "    }\n",
       "\n",
       "    .dataframe tbody tr th {\n",
       "        vertical-align: top;\n",
       "    }\n",
       "\n",
       "    .dataframe thead th {\n",
       "        text-align: right;\n",
       "    }\n",
       "</style>\n",
       "<table border=\"1\" class=\"dataframe\">\n",
       "  <thead>\n",
       "    <tr style=\"text-align: right;\">\n",
       "      <th></th>\n",
       "      <th>winner</th>\n",
       "      <th>rank</th>\n",
       "      <th>tournament</th>\n",
       "    </tr>\n",
       "  </thead>\n",
       "  <tbody>\n",
       "    <tr>\n",
       "      <th>0</th>\n",
       "      <td>Jimmy Robertson</td>\n",
       "      <td>24</td>\n",
       "      <td>European Masters</td>\n",
       "    </tr>\n",
       "  </tbody>\n",
       "</table>\n",
       "</div>"
      ],
      "text/plain": [
       "            winner  rank        tournament\n",
       "0  Jimmy Robertson    24  European Masters"
      ]
     },
     "execution_count": 88,
     "metadata": {},
     "output_type": "execute_result"
    }
   ],
   "source": [
    "#Чемпион с самым низким рейтингом\n",
    "pd.read_sql(\"\"\"\n",
    "SELECT winner, rank, tournament\n",
    "FROM tournaments, players\n",
    "WHERE winner = player\n",
    "ORDER BY rank DESC\n",
    "\"\"\", sql).head(1)"
   ]
  },
  {
   "cell_type": "code",
   "execution_count": 89,
   "id": "4ae9a42d-9dd5-4ecd-8b28-4c53882fdd83",
   "metadata": {},
   "outputs": [
    {
     "data": {
      "text/html": [
       "<div>\n",
       "<style scoped>\n",
       "    .dataframe tbody tr th:only-of-type {\n",
       "        vertical-align: middle;\n",
       "    }\n",
       "\n",
       "    .dataframe tbody tr th {\n",
       "        vertical-align: top;\n",
       "    }\n",
       "\n",
       "    .dataframe thead th {\n",
       "        text-align: right;\n",
       "    }\n",
       "</style>\n",
       "<table border=\"1\" class=\"dataframe\">\n",
       "  <thead>\n",
       "    <tr style=\"text-align: right;\">\n",
       "      <th></th>\n",
       "      <th>month_name</th>\n",
       "      <th>player</th>\n",
       "      <th>nationality</th>\n",
       "      <th>tournament</th>\n",
       "      <th>place</th>\n",
       "    </tr>\n",
       "  </thead>\n",
       "  <tbody>\n",
       "    <tr>\n",
       "      <th>0</th>\n",
       "      <td>October 2018</td>\n",
       "      <td>Stuart Bingham</td>\n",
       "      <td>England</td>\n",
       "      <td>English Open</td>\n",
       "      <td>England</td>\n",
       "    </tr>\n",
       "    <tr>\n",
       "      <th>1</th>\n",
       "      <td>November 2018</td>\n",
       "      <td>Ronnie O'Sullivan</td>\n",
       "      <td>England</td>\n",
       "      <td>Champion of Champions</td>\n",
       "      <td>England</td>\n",
       "    </tr>\n",
       "    <tr>\n",
       "      <th>2</th>\n",
       "      <td>November 2018</td>\n",
       "      <td>Mark Allen</td>\n",
       "      <td>Northern Ireland</td>\n",
       "      <td>Northern Ireland Open</td>\n",
       "      <td>Northern Ireland</td>\n",
       "    </tr>\n",
       "    <tr>\n",
       "      <th>3</th>\n",
       "      <td>December 2018</td>\n",
       "      <td>Ronnie O'Sullivan</td>\n",
       "      <td>England</td>\n",
       "      <td>UK Championship</td>\n",
       "      <td>England</td>\n",
       "    </tr>\n",
       "    <tr>\n",
       "      <th>4</th>\n",
       "      <td>January 2019</td>\n",
       "      <td>Judd Trump</td>\n",
       "      <td>England</td>\n",
       "      <td>Masters</td>\n",
       "      <td>England</td>\n",
       "    </tr>\n",
       "    <tr>\n",
       "      <th>5</th>\n",
       "      <td>February 2019</td>\n",
       "      <td>Judd Trump</td>\n",
       "      <td>England</td>\n",
       "      <td>World Grand Prix</td>\n",
       "      <td>England</td>\n",
       "    </tr>\n",
       "    <tr>\n",
       "      <th>6</th>\n",
       "      <td>March 2019</td>\n",
       "      <td>Ronnie O'Sullivan</td>\n",
       "      <td>England</td>\n",
       "      <td>Players Championship</td>\n",
       "      <td>England</td>\n",
       "    </tr>\n",
       "    <tr>\n",
       "      <th>7</th>\n",
       "      <td>April 2019</td>\n",
       "      <td>Judd Trump</td>\n",
       "      <td>England</td>\n",
       "      <td>World Championship</td>\n",
       "      <td>England</td>\n",
       "    </tr>\n",
       "  </tbody>\n",
       "</table>\n",
       "</div>"
      ],
      "text/plain": [
       "      month_name             player       nationality             tournament  \\\n",
       "0   October 2018     Stuart Bingham           England           English Open   \n",
       "1  November 2018  Ronnie O'Sullivan           England  Champion of Champions   \n",
       "2  November 2018         Mark Allen  Northern Ireland  Northern Ireland Open   \n",
       "3  December 2018  Ronnie O'Sullivan           England        UK Championship   \n",
       "4   January 2019         Judd Trump           England                Masters   \n",
       "5  February 2019         Judd Trump           England       World Grand Prix   \n",
       "6     March 2019  Ronnie O'Sullivan           England   Players Championship   \n",
       "7     April 2019         Judd Trump           England     World Championship   \n",
       "\n",
       "              place  \n",
       "0           England  \n",
       "1           England  \n",
       "2  Northern Ireland  \n",
       "3           England  \n",
       "4           England  \n",
       "5           England  \n",
       "6           England  \n",
       "7           England  "
      ]
     },
     "execution_count": 89,
     "metadata": {},
     "output_type": "execute_result"
    }
   ],
   "source": [
    "#Отсортированный по хронологии список всех домашних побед (когда игрок выигрывал турнир, проводившийся в его родной стране)\n",
    "pd.read_sql(\"\"\"\n",
    "SELECT month_name, player, nationality, tournament, place \n",
    "FROM players, tournaments, months \n",
    "WHERE player = winner and nationality = place and tournaments.month_id = months.month_id\n",
    "ORDER BY tournaments.month_id\n",
    "\"\"\", sql)"
   ]
  },
  {
   "cell_type": "markdown",
   "id": "03a62fd3-f574-409e-9f0f-1c554da15d8f",
   "metadata": {},
   "source": [
    "### Hard"
   ]
  },
  {
   "cell_type": "markdown",
   "id": "ab7f94a4-2f63-4103-8dc4-34655ea5957e",
   "metadata": {
    "tags": []
   },
   "source": [
    "\"England vs the rest of the world\".\n",
    "\n",
    "Создадим \"национальную классификацию\" и сегментируем сезон по временам годам, чтобы наглядно представить соотношение сил между представителями Англии и остального мира."
   ]
  },
  {
   "cell_type": "code",
   "execution_count": 90,
   "id": "155bf6f2-34d4-4ea6-9b45-68794ce4d27d",
   "metadata": {},
   "outputs": [
    {
     "data": {
      "text/html": [
       "<div>\n",
       "<style scoped>\n",
       "    .dataframe tbody tr th:only-of-type {\n",
       "        vertical-align: middle;\n",
       "    }\n",
       "\n",
       "    .dataframe tbody tr th {\n",
       "        vertical-align: top;\n",
       "    }\n",
       "\n",
       "    .dataframe thead th {\n",
       "        text-align: right;\n",
       "    }\n",
       "</style>\n",
       "<table border=\"1\" class=\"dataframe\">\n",
       "  <thead>\n",
       "    <tr style=\"text-align: right;\">\n",
       "      <th></th>\n",
       "      <th>winning_nation</th>\n",
       "      <th>month_id</th>\n",
       "    </tr>\n",
       "  </thead>\n",
       "  <tbody>\n",
       "    <tr>\n",
       "      <th>0</th>\n",
       "      <td>Belgium</td>\n",
       "      <td>7</td>\n",
       "    </tr>\n",
       "    <tr>\n",
       "      <th>1</th>\n",
       "      <td>Australia</td>\n",
       "      <td>7</td>\n",
       "    </tr>\n",
       "    <tr>\n",
       "      <th>2</th>\n",
       "      <td>England</td>\n",
       "      <td>8</td>\n",
       "    </tr>\n",
       "    <tr>\n",
       "      <th>3</th>\n",
       "      <td>Wales</td>\n",
       "      <td>8</td>\n",
       "    </tr>\n",
       "    <tr>\n",
       "      <th>4</th>\n",
       "      <td>England</td>\n",
       "      <td>8</td>\n",
       "    </tr>\n",
       "  </tbody>\n",
       "</table>\n",
       "</div>"
      ],
      "text/plain": [
       "  winning_nation  month_id\n",
       "0        Belgium         7\n",
       "1      Australia         7\n",
       "2        England         8\n",
       "3          Wales         8\n",
       "4        England         8"
      ]
     },
     "execution_count": 90,
     "metadata": {},
     "output_type": "execute_result"
    }
   ],
   "source": [
    "national_df = pd.read_sql(\"\"\"\n",
    "SELECT nationality as winning_nation, tournaments.month_id\n",
    "FROM tournaments, players\n",
    "WHERE winner = player\n",
    "\"\"\", sql)\n",
    "\n",
    "national_df.head()"
   ]
  },
  {
   "cell_type": "code",
   "execution_count": 91,
   "id": "93387025-c671-4e7a-954f-a81e9b1f7717",
   "metadata": {},
   "outputs": [],
   "source": [
    "summer = [7, 8]\n",
    "fall = [9, 10, 11]\n",
    "winter = [12, 21, 22]\n",
    "spring = [23, 24]\n",
    "\n",
    "summer_df = national_df.loc[national_df['month_id'].isin(summer)]\n",
    "fall_df = national_df.loc[national_df['month_id'].isin(fall)]\n",
    "winter_df = national_df.loc[national_df['month_id'].isin(winter)]\n",
    "spring_df = national_df.loc[national_df['month_id'].isin(spring)]"
   ]
  },
  {
   "cell_type": "code",
   "execution_count": 92,
   "id": "4e69ff97-5faf-4151-a8d5-2f1491a90e91",
   "metadata": {},
   "outputs": [
    {
     "data": {
      "text/html": [
       "<div>\n",
       "<style scoped>\n",
       "    .dataframe tbody tr th:only-of-type {\n",
       "        vertical-align: middle;\n",
       "    }\n",
       "\n",
       "    .dataframe tbody tr th {\n",
       "        vertical-align: top;\n",
       "    }\n",
       "\n",
       "    .dataframe thead th {\n",
       "        text-align: right;\n",
       "    }\n",
       "</style>\n",
       "<table border=\"1\" class=\"dataframe\">\n",
       "  <thead>\n",
       "    <tr style=\"text-align: right;\">\n",
       "      <th></th>\n",
       "      <th>winning_nation</th>\n",
       "      <th>month_id</th>\n",
       "    </tr>\n",
       "  </thead>\n",
       "  <tbody>\n",
       "    <tr>\n",
       "      <th>20</th>\n",
       "      <td>England</td>\n",
       "      <td>23</td>\n",
       "    </tr>\n",
       "    <tr>\n",
       "      <th>21</th>\n",
       "      <td>England</td>\n",
       "      <td>23</td>\n",
       "    </tr>\n",
       "    <tr>\n",
       "      <th>22</th>\n",
       "      <td>England</td>\n",
       "      <td>23</td>\n",
       "    </tr>\n",
       "    <tr>\n",
       "      <th>23</th>\n",
       "      <td>Australia</td>\n",
       "      <td>24</td>\n",
       "    </tr>\n",
       "    <tr>\n",
       "      <th>24</th>\n",
       "      <td>England</td>\n",
       "      <td>24</td>\n",
       "    </tr>\n",
       "  </tbody>\n",
       "</table>\n",
       "</div>"
      ],
      "text/plain": [
       "   winning_nation  month_id\n",
       "20        England        23\n",
       "21        England        23\n",
       "22        England        23\n",
       "23      Australia        24\n",
       "24        England        24"
      ]
     },
     "execution_count": 92,
     "metadata": {},
     "output_type": "execute_result"
    }
   ],
   "source": [
    "spring_df"
   ]
  },
  {
   "cell_type": "code",
   "execution_count": 93,
   "id": "84097cf3-e25a-49aa-ab38-6bc5e725fbf2",
   "metadata": {},
   "outputs": [],
   "source": [
    "#Функция, принимающая на вход дата-фрейм стран-победительниц \n",
    "#и возвращающая новый дата-фрейм с подсчетом количества побед каждой из них\n",
    "\n",
    "def wins_by_nations_df(df):\n",
    "    nations = ['Australia', 'Belgium', 'England', 'Northern Ireland', 'Wales']\n",
    "    winner_nations = list(pd.Series(df['winning_nation']))\n",
    "    a = winner_nations.count('Australia')\n",
    "    b = winner_nations.count('Belgium')\n",
    "    e = winner_nations.count('England')\n",
    "    n = winner_nations.count('Northern Ireland')\n",
    "    w = winner_nations.count('Wales')\n",
    "    number_of_wins = [a, b, e, n, w]\n",
    "    data = {'nation': nations, 'wins': number_of_wins}\n",
    "    return pd.DataFrame(data)"
   ]
  },
  {
   "cell_type": "code",
   "execution_count": 94,
   "id": "5c5af004-278a-43d7-9881-e907a5f1b90a",
   "metadata": {},
   "outputs": [
    {
     "data": {
      "text/plain": [
       "<AxesSubplot:ylabel='Summer'>"
      ]
     },
     "execution_count": 94,
     "metadata": {},
     "output_type": "execute_result"
    },
    {
     "data": {
      "image/png": "[encoded data removed]",
      "text/plain": [
       "<Figure size 432x288 with 1 Axes>"
      ]
     },
     "metadata": {},
     "output_type": "display_data"
    }
   ],
   "source": [
    "wins_by_nations_df(summer_df).wins.plot(kind=\"pie\", label=\"Summer\")"
   ]
  },
  {
   "cell_type": "code",
   "execution_count": 95,
   "id": "291eeae3-0ba9-45e0-8425-2a38e3951a76",
   "metadata": {},
   "outputs": [
    {
     "data": {
      "text/plain": [
       "<AxesSubplot:ylabel='Fall'>"
      ]
     },
     "execution_count": 95,
     "metadata": {},
     "output_type": "execute_result"
    },
    {
     "data": {
      "image/png": "[encoded data removed]",
      "text/plain": [
       "<Figure size 432x288 with 1 Axes>"
      ]
     },
     "metadata": {},
     "output_type": "display_data"
    }
   ],
   "source": [
    "wins_by_nations_df(fall_df).wins.plot(kind=\"pie\", label=\"Fall\")"
   ]
  },
  {
   "cell_type": "code",
   "execution_count": 96,
   "id": "001ce1b3-4037-40fa-84e8-eac4b2953697",
   "metadata": {},
   "outputs": [
    {
     "data": {
      "text/plain": [
       "<AxesSubplot:ylabel='Winter'>"
      ]
     },
     "execution_count": 96,
     "metadata": {},
     "output_type": "execute_result"
    },
    {
     "data": {
      "image/png": "[encoded data removed]",
      "text/plain": [
       "<Figure size 432x288 with 1 Axes>"
      ]
     },
     "metadata": {},
     "output_type": "display_data"
    }
   ],
   "source": [
    "wins_by_nations_df(winter_df).wins.plot(kind=\"pie\", label=\"Winter\")"
   ]
  },
  {
   "cell_type": "code",
   "execution_count": 97,
   "id": "1cca397f-8adb-41bd-b568-19e951e52c8d",
   "metadata": {},
   "outputs": [
    {
     "data": {
      "image/png": "[encoded data removed]",
      "text/plain": [
       "<Figure size 432x288 with 1 Axes>"
      ]
     },
     "metadata": {},
     "output_type": "display_data"
    }
   ],
   "source": [
    "chart4 = wins_by_nations_df(spring_df).wins.plot(kind=\"pie\", label=\"Spring\")"
   ]
  },
  {
   "cell_type": "markdown",
   "id": "e2c6a3b0-b4a3-402e-a7fd-7ca71b50849b",
   "metadata": {},
   "source": [
    "На диаграммах наглядно видно, что английские игроки (зеленый цвет) имели заметное преимущество на протяжении всего сезона. Наименьшее - летом, когда проводятся наименее престижные турниры."
   ]
  }
 ],
 "metadata": {
  "kernelspec": {
   "display_name": "Python 3",
   "language": "python",
   "name": "python3"
  },
  "language_info": {
   "codemirror_mode": {
    "name": "ipython",
    "version": 3
   },
   "file_extension": ".py",
   "mimetype": "text/x-python",
   "name": "python",
   "nbconvert_exporter": "python",
   "pygments_lexer": "ipython3",
   "version": "3.8.8"
  }
 },
 "nbformat": 4,
 "nbformat_minor": 5
}
