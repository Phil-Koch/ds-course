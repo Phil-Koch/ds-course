{
 "cells": [
  {
   "cell_type": "markdown",
   "id": "82a5b9b9-7e0b-43ad-b5ce-78917128604c",
   "metadata": {},
   "source": [
    "Easy\n",
    "Нужно написать функцию, которая на вход получает список из чисел, а на выходе дает список, где каждое число возведено в квадрат. \n",
    "Решать при помощи цикла.\n",
    "\n",
    "Попробовать на вход:\n",
    "list(range(10))\n",
    "list(range(100))\n",
    "list()"
   ]
  },
  {
   "cell_type": "code",
   "execution_count": 7,
   "id": "40681f6f-34a7-453e-84c2-0fbfeb4445ae",
   "metadata": {},
   "outputs": [
    {
     "name": "stdout",
     "output_type": "stream",
     "text": [
      "[0, 1, 4, 9, 16, 25, 36, 49, 64, 81]\n"
     ]
    }
   ],
   "source": [
    "def squares(num_list):\n",
    "    sq_list = []\n",
    "    for elem in num_list:\n",
    "        sq_list.append(elem ** 2)\n",
    "    return sq_list\n",
    "    \n",
    "print(squares(list(range(10))))"
   ]
  },
  {
   "cell_type": "code",
   "execution_count": 8,
   "id": "a5483686-c8f2-4738-880e-da49582cef06",
   "metadata": {},
   "outputs": [
    {
     "name": "stdout",
     "output_type": "stream",
     "text": [
      "[0, 1, 4, 9, 16, 25, 36, 49, 64, 81, 100, 121, 144, 169, 196, 225, 256, 289, 324, 361, 400, 441, 484, 529, 576, 625, 676, 729, 784, 841, 900, 961, 1024, 1089, 1156, 1225, 1296, 1369, 1444, 1521, 1600, 1681, 1764, 1849, 1936, 2025, 2116, 2209, 2304, 2401, 2500, 2601, 2704, 2809, 2916, 3025, 3136, 3249, 3364, 3481, 3600, 3721, 3844, 3969, 4096, 4225, 4356, 4489, 4624, 4761, 4900, 5041, 5184, 5329, 5476, 5625, 5776, 5929, 6084, 6241, 6400, 6561, 6724, 6889, 7056, 7225, 7396, 7569, 7744, 7921, 8100, 8281, 8464, 8649, 8836, 9025, 9216, 9409, 9604, 9801]\n"
     ]
    }
   ],
   "source": [
    "print(squares(list(range(100))))"
   ]
  },
  {
   "cell_type": "code",
   "execution_count": 9,
   "id": "ec07ec19-045c-4030-99b1-60e2d1e9e63d",
   "metadata": {},
   "outputs": [
    {
     "name": "stdout",
     "output_type": "stream",
     "text": [
      "[]\n"
     ]
    }
   ],
   "source": [
    "print(squares(list()))"
   ]
  },
  {
   "cell_type": "markdown",
   "id": "afdf3698-978c-4399-aa9a-150c1f2eda9d",
   "metadata": {},
   "source": [
    "Normal\n",
    "Тоже самое, но на этот раз без цикла (смотрим раздел с функциями из ноутбука, который разбирали в классе). \n",
    "Сравнить скорость выполнения первого и второго варианта."
   ]
  },
  {
   "cell_type": "code",
   "execution_count": 12,
   "id": "467f5569-e6a6-4499-9597-314c258bbb70",
   "metadata": {},
   "outputs": [
    {
     "name": "stdout",
     "output_type": "stream",
     "text": [
      "[0, 1, 4, 9, 16, 25, 36, 49, 64, 81]\n"
     ]
    }
   ],
   "source": [
    "def squares_without_loops(num_list):\n",
    "    return list(map(lambda elem: elem ** 2, num_list))\n",
    "    \n",
    "print(squares_without_loops(list(range(10))))"
   ]
  },
  {
   "cell_type": "code",
   "execution_count": 14,
   "id": "e36aae08-c50a-4edf-8096-b97c3780e516",
   "metadata": {},
   "outputs": [
    {
     "name": "stdout",
     "output_type": "stream",
     "text": [
      "[0, 1, 4, 9, 16, 25, 36, 49, 64, 81, 100, 121, 144, 169, 196, 225, 256, 289, 324, 361, 400, 441, 484, 529, 576, 625, 676, 729, 784, 841, 900, 961, 1024, 1089, 1156, 1225, 1296, 1369, 1444, 1521, 1600, 1681, 1764, 1849, 1936, 2025, 2116, 2209, 2304, 2401, 2500, 2601, 2704, 2809, 2916, 3025, 3136, 3249, 3364, 3481, 3600, 3721, 3844, 3969, 4096, 4225, 4356, 4489, 4624, 4761, 4900, 5041, 5184, 5329, 5476, 5625, 5776, 5929, 6084, 6241, 6400, 6561, 6724, 6889, 7056, 7225, 7396, 7569, 7744, 7921, 8100, 8281, 8464, 8649, 8836, 9025, 9216, 9409, 9604, 9801]\n"
     ]
    }
   ],
   "source": [
    "print(squares_without_loops(list(range(100))))"
   ]
  },
  {
   "cell_type": "code",
   "execution_count": 15,
   "id": "186a01e9-773f-4a10-9261-1c435b3104ee",
   "metadata": {},
   "outputs": [
    {
     "name": "stdout",
     "output_type": "stream",
     "text": [
      "[]\n"
     ]
    }
   ],
   "source": [
    "print(squares_without_loops(list()))"
   ]
  },
  {
   "cell_type": "code",
   "execution_count": 25,
   "id": "73523c4e-61f4-4d9f-b2e4-6e6b8871f201",
   "metadata": {
    "tags": []
   },
   "outputs": [
    {
     "name": "stdout",
     "output_type": "stream",
     "text": [
      "7.46 µs ± 154 ns per loop (mean ± std. dev. of 7 runs, 100000 loops each)\n"
     ]
    }
   ],
   "source": [
    "%%timeit\n",
    "squares(list(range(10)))"
   ]
  },
  {
   "cell_type": "code",
   "execution_count": 21,
   "id": "3ca17650-34bc-4383-9cc2-03f50d6b369e",
   "metadata": {},
   "outputs": [
    {
     "name": "stdout",
     "output_type": "stream",
     "text": [
      "7.13 µs ± 91.4 ns per loop (mean ± std. dev. of 7 runs, 100000 loops each)\n"
     ]
    }
   ],
   "source": [
    "%%timeit\n",
    "squares_without_loops(list(range(10)))"
   ]
  },
  {
   "cell_type": "code",
   "execution_count": 22,
   "id": "4d52fdd9-911a-4efe-b883-ff9acc33cb88",
   "metadata": {},
   "outputs": [
    {
     "name": "stdout",
     "output_type": "stream",
     "text": [
      "63.4 µs ± 1.91 µs per loop (mean ± std. dev. of 7 runs, 10000 loops each)\n"
     ]
    }
   ],
   "source": [
    "%%timeit\n",
    "squares(list(range(100)))"
   ]
  },
  {
   "cell_type": "code",
   "execution_count": 23,
   "id": "7826e5e6-68ef-4e8e-a8d1-5a305d6fd3ef",
   "metadata": {},
   "outputs": [
    {
     "name": "stdout",
     "output_type": "stream",
     "text": [
      "71.1 µs ± 1.85 µs per loop (mean ± std. dev. of 7 runs, 10000 loops each)\n"
     ]
    }
   ],
   "source": [
    "%%timeit\n",
    "squares_without_loops(list(range(100)))"
   ]
  },
  {
   "cell_type": "code",
   "execution_count": 26,
   "id": "ae987596-973a-4935-ae10-0030af6cc89e",
   "metadata": {},
   "outputs": [
    {
     "name": "stdout",
     "output_type": "stream",
     "text": [
      "511 ns ± 22 ns per loop (mean ± std. dev. of 7 runs, 1000000 loops each)\n"
     ]
    }
   ],
   "source": [
    "%%timeit\n",
    "squares(list())"
   ]
  },
  {
   "cell_type": "code",
   "execution_count": 27,
   "id": "9d3ebd6a-3fff-4cc6-ae6f-d253c179faca",
   "metadata": {},
   "outputs": [
    {
     "name": "stdout",
     "output_type": "stream",
     "text": [
      "1.44 µs ± 14.7 ns per loop (mean ± std. dev. of 7 runs, 1000000 loops each)\n"
     ]
    }
   ],
   "source": [
    "%%timeit\n",
    "squares_without_loops(list())"
   ]
  },
  {
   "cell_type": "code",
   "execution_count": 28,
   "id": "ddfb47b1-ae3f-4b0e-a3b0-82f675201ed2",
   "metadata": {},
   "outputs": [],
   "source": [
    "#Выводы неоднозначные: \"without loops\" выполняется дольше (?...)"
   ]
  },
  {
   "cell_type": "markdown",
   "id": "7bec3a2d-bc0f-4c48-804d-84bee472913f",
   "metadata": {},
   "source": [
    "Hard\n",
    "Написать функцию, которая на вход принимает список, а возвращает словарь со среднием, медианой и модой, \n",
    "например вот такой: {\"mean\": ..., \"median\": ..., \"mode\": ...}. \n",
    "На следующем занятии разберем как это сделать при помощи библиотек, а пока можно реализовать просто по формулам.\n",
    "\n",
    "Пример:\n",
    "[0, 1, 1, 10, 5, 4, 3]\n",
    "->\n",
    "{\"mean\": 3.4285, \"median\": 3, \"mode\": 1}"
   ]
  },
  {
   "cell_type": "code",
   "execution_count": 24,
   "id": "f6f49e51-f673-48b4-8722-13018767cd2a",
   "metadata": {},
   "outputs": [],
   "source": [
    "def mean(num_list):\n",
    "    sum = 0\n",
    "    for elem in num_list:\n",
    "        sum += elem\n",
    "    return sum / len(num_list)"
   ]
  },
  {
   "cell_type": "code",
   "execution_count": 22,
   "id": "b04e5998-155b-4c26-acf4-69f6d807c8db",
   "metadata": {},
   "outputs": [],
   "source": [
    "def median(num_list):\n",
    "    num_list.sort()\n",
    "    x_odd = int(len(num_list) // 2)\n",
    "    x_even1 = int(len(num_list) / 2 - 1)\n",
    "    x_even2 = int(len(num_list) / 2)\n",
    "    if len(num_list) % 2 != 0:\n",
    "        return num_list[x_odd]\n",
    "    return ((num_list[x_even1] + num_list[x_even2]) / 2)"
   ]
  },
  {
   "cell_type": "code",
   "execution_count": 26,
   "id": "46b281bd-32cf-4db1-bc85-93aa2752dfe6",
   "metadata": {},
   "outputs": [],
   "source": [
    "def mode(num_list):\n",
    "    data = {}\n",
    "    for elem in num_list:\n",
    "        if elem not in data.keys():\n",
    "            data[elem] = 1\n",
    "        else:\n",
    "            data[elem] += 1\n",
    "    max = 0\n",
    "    for v in data.values():\n",
    "        if v >= max:\n",
    "            max = v\n",
    "    if max == 1:\n",
    "        return \"no\"\n",
    "    result = []\n",
    "    for k, v in data.items():\n",
    "        if v == max:\n",
    "            result.append(k)\n",
    "    if len(result) == 1:\n",
    "        return result[0]\n",
    "    if len(result) > 0:\n",
    "        return tuple(result)"
   ]
  },
  {
   "cell_type": "code",
   "execution_count": 27,
   "id": "52296151-fc6d-40ba-9921-3d828c2b3c8f",
   "metadata": {},
   "outputs": [
    {
     "name": "stdout",
     "output_type": "stream",
     "text": [
      "{'mean': 3.4285714285714284, 'median': 3, 'mode': 1}\n",
      "{'mean': 3.5, 'median': 3.5, 'mode': (1, 4)}\n",
      "{'mean': 15.0, 'median': 3.5, 'mode': 'no'}\n"
     ]
    }
   ],
   "source": [
    "def solve_task3(num_list):\n",
    "    return {\"mean\": mean(num_list), \"median\": median(num_list), \"mode\": mode(num_list)}\n",
    "\n",
    "list1 = [0, 1, 1, 10, 5, 4, 3]\n",
    "list2 = [0, 1, 1, 10, 5, 4, 3, 4] #четная длина, две моды\n",
    "list3 = [0, 1, 2, 3, 4, 5, 6, 99] #нет мод\n",
    "\n",
    "print(solve_task3(list1))\n",
    "print(solve_task3(list2))\n",
    "print(solve_task3(list3))"
   ]
  },
  {
   "cell_type": "code",
   "execution_count": null,
   "id": "1bcc91b0-2adb-4564-be8c-07e1192f539f",
   "metadata": {},
   "outputs": [],
   "source": []
  }
 ],
 "metadata": {
  "kernelspec": {
   "display_name": "Python 3 (ipykernel)",
   "language": "python",
   "name": "python3"
  },
  "language_info": {
   "codemirror_mode": {
    "name": "ipython",
    "version": 3
   },
   "file_extension": ".py",
   "mimetype": "text/x-python",
   "name": "python",
   "nbconvert_exporter": "python",
   "pygments_lexer": "ipython3",
   "version": "3.9.7"
  }
 },
 "nbformat": 4,
 "nbformat_minor": 5
}
